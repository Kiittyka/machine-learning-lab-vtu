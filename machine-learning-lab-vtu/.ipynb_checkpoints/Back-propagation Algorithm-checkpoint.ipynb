{
 "cells": [
  {
   "cell_type": "code",
   "execution_count": null,
   "metadata": {},
   "outputs": [],
   "source": [
    "import numpy as np"
   ]
  },
  {
   "cell_type": "code",
   "execution_count": null,
   "metadata": {},
   "outputs": [],
   "source": [
    "X = np.array(([2, 9], [1, 5], [3, 6]), dtype=float)"
   ]
  },
  {
   "cell_type": "code",
   "execution_count": null,
   "metadata": {},
   "outputs": [],
   "source": [
    "y = np.array(([92], [86], [89]), dtype=float)"
   ]
  },
  {
   "cell_type": "code",
   "execution_count": null,
   "metadata": {},
   "outputs": [],
   "source": [
    "X = X/np.amax(X, axis=0)"
   ]
  },
  {
   "cell_type": "code",
   "execution_count": null,
   "metadata": {},
   "outputs": [],
   "source": [
    "y = y / 100"
   ]
  },
  {
   "cell_type": "code",
   "execution_count": null,
   "metadata": {},
   "outputs": [],
   "source": [
    "def sigmoid(x):\n",
    "    return 1/(1 + np.exp(-x))"
   ]
  },
  {
   "cell_type": "code",
   "execution_count": null,
   "metadata": {},
   "outputs": [],
   "source": [
    "def derivatives_sigmoid(x):\n",
    "    return x * (1 - x)"
   ]
  },
  {
   "cell_type": "code",
   "execution_count": null,
   "metadata": {},
   "outputs": [],
   "source": [
    "epoch = 7000"
   ]
  },
  {
   "cell_type": "code",
   "execution_count": null,
   "metadata": {},
   "outputs": [],
   "source": [
    "learning_rate = 0.1"
   ]
  },
  {
   "cell_type": "code",
   "execution_count": null,
   "metadata": {},
   "outputs": [],
   "source": [
    "inputlayer_neurons = 2"
   ]
  },
  {
   "cell_type": "code",
   "execution_count": null,
   "metadata": {},
   "outputs": [],
   "source": [
    "hiddenlayer_neurons = 3"
   ]
  },
  {
   "cell_type": "code",
   "execution_count": null,
   "metadata": {},
   "outputs": [],
   "source": [
    "outputlayer_neurons = 1"
   ]
  },
  {
   "cell_type": "code",
   "execution_count": null,
   "metadata": {},
   "outputs": [],
   "source": [
    "# Weight of hidden layer\n",
    "wh = np.random.uniform(size=(inputlayer_neurons, hiddenlayer_neurons))"
   ]
  },
  {
   "cell_type": "code",
   "execution_count": null,
   "metadata": {},
   "outputs": [],
   "source": [
    "# Bias of hidden layer\n",
    "bh = np.random.uniform(size=(1, hiddenlayer_neurons))"
   ]
  },
  {
   "cell_type": "code",
   "execution_count": null,
   "metadata": {},
   "outputs": [],
   "source": [
    "# Weight of output layer\n",
    "wo = np.random.uniform(size=(hiddenlayer_neurons, outputlayer_neurons))"
   ]
  },
  {
   "cell_type": "code",
   "execution_count": null,
   "metadata": {},
   "outputs": [],
   "source": [
    "# Bias of output layer\n",
    "bo = np.random.uniform(size=(1, outputlayer_neurons))"
   ]
  },
  {
   "cell_type": "code",
   "execution_count": null,
   "metadata": {},
   "outputs": [],
   "source": [
    "# training\n",
    "for i in range(epoch):\n",
    "    # Sum of (input * weights in hidden layer) + bias of hidden\n",
    "    net_h = np.dot(X, wh) + bh\n",
    "    # Apply Activation Function\n",
    "    sigma_h = sigmoid(net_h)\n",
    "    # Input to O/P Layer = (O/P of Hidden Layer * weight of O/P Layer) + bias of O/P layer\n",
    "    net_o = np.dot(sigma_h, wo) + bo\n",
    "    # Apply Activation Function\n",
    "    output = sigmoid(net_o)\n",
    "    \n",
    "    # Finding Deltas (Cost Function Implementation)\n",
    "    # Delta of O/P layer\n",
    "    deltaK = (y - output) * derivatives_sigmoid(output)\n",
    "    # Delta of Hidden Layer\n",
    "    deltaH = deltaK.dot(wo.T) * derivatives_sigmoid(sigma_h)\n",
    "    # Update the weights\n",
    "    wo = wo + sigma_h.T.dot(deltaK) * learning_rate\n",
    "    wh = wh + X.T.dot(deltaH) * learning_rate\n",
    "    \n",
    "    error = sum(deltaK)**2 / len(deltaK)\n",
    "    \n",
    "    print('Epoch -> {0}, lrate -> {1}, error -> {2}'.format(i, learning_rate, error))"
   ]
  },
  {
   "cell_type": "code",
   "execution_count": null,
   "metadata": {},
   "outputs": [],
   "source": [
    "print(\"Input: \\n \" + str(X))"
   ]
  },
  {
   "cell_type": "code",
   "execution_count": null,
   "metadata": {},
   "outputs": [],
   "source": [
    "print(\"Actual Output: \\n\" + str(y))"
   ]
  },
  {
   "cell_type": "code",
   "execution_count": null,
   "metadata": {},
   "outputs": [],
   "source": [
    "print(\"Predicted Output: \\n\", output)"
   ]
  }
 ],
 "metadata": {
  "kernelspec": {
   "display_name": "Python 3",
   "language": "python",
   "name": "python3"
  },
  "language_info": {
   "codemirror_mode": {
    "name": "ipython",
    "version": 3
   },
   "file_extension": ".py",
   "mimetype": "text/x-python",
   "name": "python",
   "nbconvert_exporter": "python",
   "pygments_lexer": "ipython3",
   "version": "3.6.3"
  }
 },
 "nbformat": 4,
 "nbformat_minor": 2
}
